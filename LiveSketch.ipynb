{
  "cells": [
   {
    "cell_type": "code",
    "execution_count": 1,
    "id": "1e2ae214",
    "metadata": {},
    "outputs": [
     {
      "name": "stderr",
      "output_type": "stream",
      "text": [
       "2025-03-27 22:51:26.068 python[64712:3527215] +[IMKClient subclass]: chose IMKClient_Modern\n",
       "2025-03-27 22:51:26.068 python[64712:3527215] +[IMKInputSession subclass]: chose IMKInputSession_Modern\n"
      ]
     }
    ],
    "source": [
     "'''About the project : Today we are going to make a Real-time/ live Sketch \n",
     "making script using OpenCV in Python. OpenCV makes it very easy for us to work with \n",
     "images and videos on the computer. We will also make use of Numpy and Matplotlib to make this live sketch app.'''\n",
     "\n",
     "#importing the opencv library \n",
     "import cv2\n",
     "#importing the numpy library for working with image arrays\n",
     "import numpy as np\n",
     "import matplotlib.pyplot as plt\n",
     "\n",
     "def sketch(image):\n",
     "    #scale = 0.40\n",
     "    #height of the image\n",
     "    height=int(image.shape[0])\n",
     "    \n",
     "    #width of image\n",
     "    width=int(image.shape[1])\n",
     "    \n",
     "    #storing the image dimension\n",
     "    dim=(width,height)\n",
     "    \n",
     "    #resize the image into our own dimension\n",
     "    resize=cv2.resize(image,dim,interpolation=cv2.INTER_AREA)\n",
     "    \n",
     "    #applying a kernel\n",
     "    '''Kernels in computer vision are matrices, used to perform some kind of convolution in our data.\n",
     "    Let’s try to break this down.\n",
     "    Convolutions are mathematical operations between two functions that create a third function. \n",
     "    In image processing, it happens by going through each pixel to perform a calculation with the pixel and its neighbours.\n",
     "    The kernels will define the size of the convolution, the weights applied to it, and an anchor point usually positioned at the center.'''\n",
     "    kernel=np.array([[-1,-1,-1], [-1, 9,-1],[-1,-1,-1]])\n",
     "    \n",
     "    #sharpning the resized image\n",
     "    '''Applying the sharpening filter will sharpen the edges in the image. \n",
     "    This filter is very useful when we want to enhance the edges in an image that's not crisp.'''\n",
     "    sharp=cv2.filter2D(resize,-1,kernel)\n",
     "    \n",
     "    #converting the image into gray scale\n",
     "    gray=cv2.cvtColor(sharp,cv2.COLOR_BGR2GRAY)\n",
     "    inv=255-gray\n",
     "    \n",
     "    \n",
     "    #apply bluring\n",
     "    '''In Gaussian Blur operation, the image is convolved with a Gaussian filter instead of the box filter. \n",
     "    The Gaussian filter is a low-pass filter that removes the high-frequency components are reduced.'''\n",
     "    blur=cv2.GaussianBlur(src=inv,ksize=(15,15),sigmaX=0,sigmaY=0)\n",
     "    #draw sketch\n",
     "    \n",
     "    s=cv2.divide(gray,255-blur,scale=256)\n",
     "    return s\n",
     "\n",
     "'''cap = cv.VideoCapture(0)\n",
     "\n",
     "VideoCapture() Function is used to capture video either from the camera or already recorded video. cap variable returns a boolean value (True if able to retrieve/capture video successfully, False if not able to successfully capture the video). It takes one parameter:\n",
     "\n",
     "0 – Front Camera\n",
     "1 – Rear Camera\n",
     "If the Cap returns True, then read() function is applied to it and it returns two things:\n",
     "\n",
     "Boolean Value (Was it successfully able to read the frame, If yes)\n",
     "Returns the frame of the video.\n",
     "Each Frame is sent to a sketch() function that takes frame as input parameter and manipulates it to return sketch of the frame.\n",
     "\n",
     "Don’t forget to release the captured video at the end of the while loop. Otherwise, it will consume all your machine’s memory.'''\n",
     "\n",
     "cap=cv2.VideoCapture(0)\n",
     "while True:\n",
     "    ret,frame=cap.read()\n",
     "    \n",
     "    cv2.imshow('sketch_image',sketch(frame))\n",
     "    cv2.imshow('Live_image',frame)\n",
     "    if cv2.waitKey(1)==ord('q'):\n",
     "        break\n",
     "cap.release()\n",
     "cv2.destroyAllWindows()\n"
    ]
   },
   {
    "cell_type": "code",
    "execution_count": 5,
    "id": "024314d6",
    "metadata": {},
    "outputs": [
     {
      "name": "stdout",
      "output_type": "stream",
      "text": [
       "Requirement already satisfied: numpy in /Users/shivaramakrishnakoyalakonda/anaconda3/lib/python3.11/site-packages (2.2.3)\n",
       "Collecting numpy\n",
       "  Obtaining dependency information for numpy from https://files.pythonhosted.org/packages/2b/3e/e7247c1d4f15086bb106c8d43c925b0b2ea20270224f5186fa48d4fb5cbd/numpy-2.2.4-cp311-cp311-macosx_14_0_arm64.whl.metadata\n",
       "  Downloading numpy-2.2.4-cp311-cp311-macosx_14_0_arm64.whl.metadata (62 kB)\n",
       "\u001b[2K     \u001b[90m━━━━━━━━━━━━━━━━━━━━━━━━━━━━━━━━━━━━━━━━\u001b[0m \u001b[32m62.0/62.0 kB\u001b[0m \u001b[31m1.1 MB/s\u001b[0m eta \u001b[36m0:00:00\u001b[0ma \u001b[36m0:00:01\u001b[0m\n",
       "\u001b[?25hRequirement already satisfied: opencv-python-headless in /Users/shivaramakrishnakoyalakonda/anaconda3/lib/python3.11/site-packages (4.11.0.86)\n",
       "Downloading numpy-2.2.4-cp311-cp311-macosx_14_0_arm64.whl (5.4 MB)\n",
       "\u001b[2K   \u001b[90m━━━━━━━━━━━━━━━━━━━━━━━━━━━━━━━━━━━━━━━━\u001b[0m \u001b[32m5.4/5.4 MB\u001b[0m \u001b[31m2.5 MB/s\u001b[0m eta \u001b[36m0:00:00\u001b[0m00:01\u001b[0m00:01\u001b[0m\n",
       "\u001b[?25hInstalling collected packages: numpy\n",
       "  Attempting uninstall: numpy\n",
       "    Found existing installation: numpy 2.2.3\n",
       "    Uninstalling numpy-2.2.3:\n",
       "      Successfully uninstalled numpy-2.2.3\n",
       "\u001b[31mERROR: pip's dependency resolver does not currently take into account all the packages that are installed. This behaviour is the source of the following dependency conflicts.\n",
       "tables 3.8.0 requires blosc2~=2.0.0, which is not installed.\n",
       "gensim 4.3.0 requires FuzzyTM>=0.4.0, which is not installed.\n",
       "tensorflow 2.18.0 requires numpy<2.1.0,>=1.26.0, but you have numpy 2.2.4 which is incompatible.\n",
       "numba 0.57.1 requires numpy<1.25,>=1.21, but you have numpy 2.2.4 which is incompatible.\n",
       "pandas-profiling 3.2.0 requires joblib~=1.1.0, but you have joblib 1.4.2 which is incompatible.\u001b[0m\u001b[31m\n",
       "\u001b[0mSuccessfully installed numpy-2.2.4\n",
       "Note: you may need to restart the kernel to use updated packages.\n"
      ]
     }
    ],
    "source": [
     "pip install --upgrade numpy opencv-python-headless"
    ]
   },
   {
    "cell_type": "code",
    "execution_count": null,
    "id": "d671aeaf",
    "metadata": {},
    "outputs": [],
    "source": []
   }
  ],
  "metadata": {
   "kernelspec": {
    "display_name": "Python 3 (ipykernel)",
    "language": "python",
    "name": "python3"
   },
   "language_info": {
    "codemirror_mode": {
     "name": "ipython",
     "version": 3
    },
    "file_extension": ".py",
    "mimetype": "text/x-python",
    "name": "python",
    "nbconvert_exporter": "python",
    "pygments_lexer": "ipython3",
    "version": "3.11.5"
   }
  },
  "nbformat": 4,
  "nbformat_minor": 5
 }
